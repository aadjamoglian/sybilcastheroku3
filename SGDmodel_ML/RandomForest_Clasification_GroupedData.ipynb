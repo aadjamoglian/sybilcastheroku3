{
 "cells": [
  {
   "cell_type": "code",
   "execution_count": null,
   "metadata": {
    "colab": {},
    "colab_type": "code",
    "id": "syywbD3qUAfd"
   },
   "outputs": [],
   "source": [
    "import pandas as pd\n",
    "import numpy as np"
   ]
  },
  {
   "cell_type": "code",
   "execution_count": 34,
   "metadata": {
    "colab": {
     "base_uri": "https://localhost:8080/",
     "height": 255
    },
    "colab_type": "code",
    "id": "d_1zRfCNUDIf",
    "outputId": "bdddaeb8-bb54-4779-8d1e-251ca1419763"
   },
   "outputs": [
    {
     "data": {
      "text/html": [
       "<div>\n",
       "<style scoped>\n",
       "    .dataframe tbody tr th:only-of-type {\n",
       "        vertical-align: middle;\n",
       "    }\n",
       "\n",
       "    .dataframe tbody tr th {\n",
       "        vertical-align: top;\n",
       "    }\n",
       "\n",
       "    .dataframe thead th {\n",
       "        text-align: right;\n",
       "    }\n",
       "</style>\n",
       "<table border=\"1\" class=\"dataframe\">\n",
       "  <thead>\n",
       "    <tr style=\"text-align: right;\">\n",
       "      <th></th>\n",
       "      <th>Crm Cd</th>\n",
       "      <th>Crm Cd Desc</th>\n",
       "      <th>AREA NAME</th>\n",
       "      <th>Vict Age</th>\n",
       "      <th>Vict Sex</th>\n",
       "      <th>Vict Descent</th>\n",
       "      <th>Premis Desc</th>\n",
       "      <th>LAT</th>\n",
       "      <th>LON</th>\n",
       "      <th>SEASON</th>\n",
       "      <th>day_night</th>\n",
       "    </tr>\n",
       "  </thead>\n",
       "  <tbody>\n",
       "    <tr>\n",
       "      <th>0</th>\n",
       "      <td>900</td>\n",
       "      <td>VIOLATION OF COURT ORDER</td>\n",
       "      <td>Newton</td>\n",
       "      <td>48</td>\n",
       "      <td>M</td>\n",
       "      <td>H</td>\n",
       "      <td>SINGLE FAMILY DWELLING</td>\n",
       "      <td>33.9825</td>\n",
       "      <td>-118.2695</td>\n",
       "      <td>winter</td>\n",
       "      <td>day</td>\n",
       "    </tr>\n",
       "    <tr>\n",
       "      <th>1</th>\n",
       "      <td>900</td>\n",
       "      <td>VIOLATION OF COURT ORDER</td>\n",
       "      <td>Hollywood</td>\n",
       "      <td>47</td>\n",
       "      <td>F</td>\n",
       "      <td>W</td>\n",
       "      <td>STREET</td>\n",
       "      <td>34.1016</td>\n",
       "      <td>-118.3295</td>\n",
       "      <td>winter</td>\n",
       "      <td>night</td>\n",
       "    </tr>\n",
       "    <tr>\n",
       "      <th>2</th>\n",
       "      <td>5000</td>\n",
       "      <td>VEHICLE-RELATED</td>\n",
       "      <td>Central</td>\n",
       "      <td>46</td>\n",
       "      <td>M</td>\n",
       "      <td>H</td>\n",
       "      <td>STREET</td>\n",
       "      <td>34.0389</td>\n",
       "      <td>-118.2643</td>\n",
       "      <td>winter</td>\n",
       "      <td>night</td>\n",
       "    </tr>\n",
       "    <tr>\n",
       "      <th>3</th>\n",
       "      <td>2000</td>\n",
       "      <td>ASSAULT/BATTERY</td>\n",
       "      <td>Central</td>\n",
       "      <td>51</td>\n",
       "      <td>M</td>\n",
       "      <td>B</td>\n",
       "      <td>OTHER PREMISE</td>\n",
       "      <td>34.0435</td>\n",
       "      <td>-118.2427</td>\n",
       "      <td>winter</td>\n",
       "      <td>night</td>\n",
       "    </tr>\n",
       "    <tr>\n",
       "      <th>4</th>\n",
       "      <td>2000</td>\n",
       "      <td>ASSAULT/BATTERY</td>\n",
       "      <td>Central</td>\n",
       "      <td>30</td>\n",
       "      <td>M</td>\n",
       "      <td>H</td>\n",
       "      <td>PARKING LOT</td>\n",
       "      <td>34.0450</td>\n",
       "      <td>-118.2640</td>\n",
       "      <td>winter</td>\n",
       "      <td>night</td>\n",
       "    </tr>\n",
       "  </tbody>\n",
       "</table>\n",
       "</div>"
      ],
      "text/plain": [
       "   Crm Cd               Crm Cd Desc  AREA NAME  ...       LON  SEASON day_night\n",
       "0     900  VIOLATION OF COURT ORDER     Newton  ... -118.2695  winter       day\n",
       "1     900  VIOLATION OF COURT ORDER  Hollywood  ... -118.3295  winter     night\n",
       "2    5000           VEHICLE-RELATED    Central  ... -118.2643  winter     night\n",
       "3    2000           ASSAULT/BATTERY    Central  ... -118.2427  winter     night\n",
       "4    2000           ASSAULT/BATTERY    Central  ... -118.2640  winter     night\n",
       "\n",
       "[5 rows x 11 columns]"
      ]
     },
     "execution_count": 34,
     "metadata": {
      "tags": []
     },
     "output_type": "execute_result"
    }
   ],
   "source": [
    "# Read in GROUPED data\n",
    "url = 'https://crime-bucket.s3.amazonaws.com/all_grouped_data.csv'\n",
    "df = pd.read_csv(url)\n",
    "df = df.drop('Unnamed: 0', axis=1)\n",
    "df.head()"
   ]
  },
  {
   "cell_type": "code",
   "execution_count": null,
   "metadata": {
    "colab": {},
    "colab_type": "code",
    "id": "delCiZYZV844"
   },
   "outputs": [],
   "source": [
    "# Test on first 500K rows\n",
    "df = df[0:500000]"
   ]
  },
  {
   "cell_type": "code",
   "execution_count": 36,
   "metadata": {
    "colab": {
     "base_uri": "https://localhost:8080/",
     "height": 204
    },
    "colab_type": "code",
    "id": "g6ibVuZC1S3u",
    "outputId": "f54ac135-a350-43fd-8b6a-adac1ca94e3d"
   },
   "outputs": [
    {
     "data": {
      "text/html": [
       "<div>\n",
       "<style scoped>\n",
       "    .dataframe tbody tr th:only-of-type {\n",
       "        vertical-align: middle;\n",
       "    }\n",
       "\n",
       "    .dataframe tbody tr th {\n",
       "        vertical-align: top;\n",
       "    }\n",
       "\n",
       "    .dataframe thead th {\n",
       "        text-align: right;\n",
       "    }\n",
       "</style>\n",
       "<table border=\"1\" class=\"dataframe\">\n",
       "  <thead>\n",
       "    <tr style=\"text-align: right;\">\n",
       "      <th></th>\n",
       "      <th>Crm Cd</th>\n",
       "      <th>AREA NAME</th>\n",
       "      <th>Vict Age</th>\n",
       "      <th>Vict Sex</th>\n",
       "      <th>Vict Descent</th>\n",
       "      <th>Premis Desc</th>\n",
       "      <th>LAT</th>\n",
       "      <th>LON</th>\n",
       "      <th>SEASON</th>\n",
       "      <th>day_night</th>\n",
       "    </tr>\n",
       "  </thead>\n",
       "  <tbody>\n",
       "    <tr>\n",
       "      <th>0</th>\n",
       "      <td>900</td>\n",
       "      <td>Newton</td>\n",
       "      <td>48</td>\n",
       "      <td>M</td>\n",
       "      <td>H</td>\n",
       "      <td>SINGLE FAMILY DWELLING</td>\n",
       "      <td>33.9825</td>\n",
       "      <td>-118.2695</td>\n",
       "      <td>winter</td>\n",
       "      <td>day</td>\n",
       "    </tr>\n",
       "    <tr>\n",
       "      <th>1</th>\n",
       "      <td>900</td>\n",
       "      <td>Hollywood</td>\n",
       "      <td>47</td>\n",
       "      <td>F</td>\n",
       "      <td>W</td>\n",
       "      <td>STREET</td>\n",
       "      <td>34.1016</td>\n",
       "      <td>-118.3295</td>\n",
       "      <td>winter</td>\n",
       "      <td>night</td>\n",
       "    </tr>\n",
       "    <tr>\n",
       "      <th>2</th>\n",
       "      <td>5000</td>\n",
       "      <td>Central</td>\n",
       "      <td>46</td>\n",
       "      <td>M</td>\n",
       "      <td>H</td>\n",
       "      <td>STREET</td>\n",
       "      <td>34.0389</td>\n",
       "      <td>-118.2643</td>\n",
       "      <td>winter</td>\n",
       "      <td>night</td>\n",
       "    </tr>\n",
       "    <tr>\n",
       "      <th>3</th>\n",
       "      <td>2000</td>\n",
       "      <td>Central</td>\n",
       "      <td>51</td>\n",
       "      <td>M</td>\n",
       "      <td>B</td>\n",
       "      <td>OTHER PREMISE</td>\n",
       "      <td>34.0435</td>\n",
       "      <td>-118.2427</td>\n",
       "      <td>winter</td>\n",
       "      <td>night</td>\n",
       "    </tr>\n",
       "    <tr>\n",
       "      <th>4</th>\n",
       "      <td>2000</td>\n",
       "      <td>Central</td>\n",
       "      <td>30</td>\n",
       "      <td>M</td>\n",
       "      <td>H</td>\n",
       "      <td>PARKING LOT</td>\n",
       "      <td>34.0450</td>\n",
       "      <td>-118.2640</td>\n",
       "      <td>winter</td>\n",
       "      <td>night</td>\n",
       "    </tr>\n",
       "  </tbody>\n",
       "</table>\n",
       "</div>"
      ],
      "text/plain": [
       "   Crm Cd  AREA NAME  Vict Age Vict Sex  ...      LAT       LON  SEASON  day_night\n",
       "0     900     Newton        48        M  ...  33.9825 -118.2695  winter        day\n",
       "1     900  Hollywood        47        F  ...  34.1016 -118.3295  winter      night\n",
       "2    5000    Central        46        M  ...  34.0389 -118.2643  winter      night\n",
       "3    2000    Central        51        M  ...  34.0435 -118.2427  winter      night\n",
       "4    2000    Central        30        M  ...  34.0450 -118.2640  winter      night\n",
       "\n",
       "[5 rows x 10 columns]"
      ]
     },
     "execution_count": 36,
     "metadata": {
      "tags": []
     },
     "output_type": "execute_result"
    }
   ],
   "source": [
    "from sklearn.model_selection import train_test_split  \n",
    "X = df.drop('Crm Cd', axis=1)\n",
    "X = df.drop('Crm Cd Desc',axis=1)\n",
    "X.head()"
   ]
  },
  {
   "cell_type": "code",
   "execution_count": null,
   "metadata": {
    "colab": {},
    "colab_type": "code",
    "id": "rVgzBar-74BK"
   },
   "outputs": [],
   "source": [
    "X = df.drop('Crm Cd', axis=1)\n",
    "X = df.drop('Crm Cd Desc',axis=1)\n",
    "y = df['Crm Cd'].values.reshape(-1,1)"
   ]
  },
  {
   "cell_type": "code",
   "execution_count": 38,
   "metadata": {
    "colab": {
     "base_uri": "https://localhost:8080/",
     "height": 255
    },
    "colab_type": "code",
    "id": "pXnZPWKpzKFs",
    "outputId": "d8eb63bf-43e2-4717-dd1e-9dbcdb6724f3"
   },
   "outputs": [
    {
     "name": "stdout",
     "output_type": "stream",
     "text": [
      "        Crm Cd  Vict Age  ...  day_night_day  day_night_night\n",
      "0          900        48  ...              1                0\n",
      "1          900        47  ...              0                1\n",
      "2         5000        46  ...              0                1\n",
      "3         2000        51  ...              0                1\n",
      "4         2000        30  ...              0                1\n",
      "...        ...       ...  ...            ...              ...\n",
      "499995    1000        39  ...              1                0\n",
      "499996     901        48  ...              1                0\n",
      "499997    2000        26  ...              0                1\n",
      "499998    1000        25  ...              1                0\n",
      "499999    1000        40  ...              1                0\n",
      "\n",
      "[500000 rows x 260 columns]\n"
     ]
    }
   ],
   "source": [
    "X_encoded = pd.get_dummies(X,columns=['AREA NAME','Vict Sex','Vict Descent','Premis Desc','SEASON','day_night'])\n",
    "print(X_encoded)"
   ]
  },
  {
   "cell_type": "code",
   "execution_count": 39,
   "metadata": {
    "colab": {
     "base_uri": "https://localhost:8080/",
     "height": 34
    },
    "colab_type": "code",
    "id": "hwm9oDbH9Acp",
    "outputId": "cd135e5e-88f6-49c4-96cd-c21bf8b2fc19"
   },
   "outputs": [
    {
     "name": "stdout",
     "output_type": "stream",
     "text": [
      "(500000, 260) (500000, 1)\n"
     ]
    }
   ],
   "source": [
    "print(X_encoded.shape, y.shape)"
   ]
  },
  {
   "cell_type": "code",
   "execution_count": null,
   "metadata": {
    "colab": {},
    "colab_type": "code",
    "id": "umLnLxvOD5Hf"
   },
   "outputs": [],
   "source": [
    "X_train, X_test, y_train, y_test = train_test_split(X_encoded, np.ravel(y), test_size=0.3)"
   ]
  },
  {
   "cell_type": "code",
   "execution_count": null,
   "metadata": {
    "colab": {},
    "colab_type": "code",
    "id": "ZnY8NdQiAz1b"
   },
   "outputs": [],
   "source": [
    "from sklearn.tree import DecisionTreeClassifier\n",
    "from sklearn.ensemble import RandomForestClassifier"
   ]
  },
  {
   "cell_type": "code",
   "execution_count": null,
   "metadata": {
    "colab": {},
    "colab_type": "code",
    "id": "YMWa5V62CwS4"
   },
   "outputs": [],
   "source": [
    "rfc = RandomForestClassifier(max_depth=15, random_state=122, n_estimators=500, max_features=\"auto\")"
   ]
  },
  {
   "cell_type": "code",
   "execution_count": 43,
   "metadata": {
    "colab": {
     "base_uri": "https://localhost:8080/",
     "height": 34
    },
    "colab_type": "code",
    "id": "XeFE2zT2VTUS",
    "outputId": "74af968d-c58b-4d7c-8bbc-584ad7a6a811"
   },
   "outputs": [
    {
     "data": {
      "text/plain": [
       "array([ 740, 5000, 1000, ..., 5000, 5000, 4000])"
      ]
     },
     "execution_count": 43,
     "metadata": {
      "tags": []
     },
     "output_type": "execute_result"
    }
   ],
   "source": [
    "y_train"
   ]
  },
  {
   "cell_type": "code",
   "execution_count": 44,
   "metadata": {
    "colab": {
     "base_uri": "https://localhost:8080/",
     "height": 153
    },
    "colab_type": "code",
    "id": "McUIFy4jC7VZ",
    "outputId": "1705b28c-c1c5-4b60-f9af-1721245c271b"
   },
   "outputs": [
    {
     "data": {
      "text/plain": [
       "RandomForestClassifier(bootstrap=True, ccp_alpha=0.0, class_weight=None,\n",
       "                       criterion='gini', max_depth=15, max_features='auto',\n",
       "                       max_leaf_nodes=None, max_samples=None,\n",
       "                       min_impurity_decrease=0.0, min_impurity_split=None,\n",
       "                       min_samples_leaf=1, min_samples_split=2,\n",
       "                       min_weight_fraction_leaf=0.0, n_estimators=500,\n",
       "                       n_jobs=None, oob_score=False, random_state=122,\n",
       "                       verbose=0, warm_start=False)"
      ]
     },
     "execution_count": 44,
     "metadata": {
      "tags": []
     },
     "output_type": "execute_result"
    }
   ],
   "source": [
    "rfc.fit(X_train, y_train)"
   ]
  },
  {
   "cell_type": "code",
   "execution_count": null,
   "metadata": {
    "colab": {},
    "colab_type": "code",
    "id": "Q9XbEKFq6HOB"
   },
   "outputs": [],
   "source": [
    "rfc_pred = rfc.predict(X_test)\n",
    "rfc_pred_NOTSTANDARDIZED = rfc.predict(X_test)"
   ]
  },
  {
   "cell_type": "code",
   "execution_count": null,
   "metadata": {
    "colab": {},
    "colab_type": "code",
    "id": "mV_v-xOeBoTF"
   },
   "outputs": [],
   "source": [
    "from sklearn.metrics import classification_report, confusion_matrix"
   ]
  },
  {
   "cell_type": "code",
   "execution_count": 50,
   "metadata": {
    "colab": {
     "base_uri": "https://localhost:8080/",
     "height": 411
    },
    "colab_type": "code",
    "id": "b5D-zVq0Ca3L",
    "outputId": "c328e0a7-c401-4872-a0ae-716234c9cbf2"
   },
   "outputs": [
    {
     "name": "stderr",
     "output_type": "stream",
     "text": [
      "/usr/local/lib/python3.6/dist-packages/sklearn/metrics/_classification.py:1272: UndefinedMetricWarning: Precision and F-score are ill-defined and being set to 0.0 in labels with no predicted samples. Use `zero_division` parameter to control this behavior.\n",
      "  _warn_prf(average, modifier, msg_start, len(result))\n"
     ]
    },
    {
     "name": "stdout",
     "output_type": "stream",
     "text": [
      "              precision    recall  f1-score   support\n",
      "\n",
      "         740       1.00      0.44      0.61      7023\n",
      "         745       0.95      0.36      0.52      8064\n",
      "         761       0.00      0.00      0.00       622\n",
      "         888       0.00      0.00      0.00      1028\n",
      "         900       0.00      0.00      0.00      1747\n",
      "         901       0.00      0.00      0.00      1162\n",
      "         930       0.00      0.00      0.00      5614\n",
      "         946       1.00      0.00      0.00      1604\n",
      "         956       0.00      0.00      0.00      2300\n",
      "        1000       0.70      1.00      0.83     55472\n",
      "        2000       0.90      1.00      0.94     24995\n",
      "        4000       0.99      0.67      0.80     10113\n",
      "        5000       0.99      0.99      0.99     30256\n",
      "\n",
      "    accuracy                           0.82    150000\n",
      "   macro avg       0.50      0.34      0.36    150000\n",
      "weighted avg       0.78      0.82      0.77    150000\n",
      "\n"
     ]
    }
   ],
   "source": [
    "# print(confusion_matrix, y_test, rfc_pred)\n",
    "print(classification_report(y_test, rfc_pred))\n",
    "classification_report__NOTSTANDARDIZED = classification_report(y_test, rfc_pred)"
   ]
  },
  {
   "cell_type": "code",
   "execution_count": 51,
   "metadata": {
    "colab": {
     "base_uri": "https://localhost:8080/",
     "height": 34
    },
    "colab_type": "code",
    "id": "GHTqb4bkCxpU",
    "outputId": "4e582678-e205-468f-dda2-2ffd861ada7c"
   },
   "outputs": [
    {
     "name": "stdout",
     "output_type": "stream",
     "text": [
      "Accuracy: 0.8211266666666667\n"
     ]
    }
   ],
   "source": [
    "from sklearn import metrics\n",
    "# Model Accuracy, how often is the classifier correct?\n",
    "print(\"Accuracy:\",metrics.accuracy_score(y_test, rfc_pred))\n",
    "accuracy_NOTSTANDARDIZED = metrics.accuracy_score(y_test, rfc_pred)"
   ]
  },
  {
   "cell_type": "code",
   "execution_count": null,
   "metadata": {
    "colab": {},
    "colab_type": "code",
    "id": "tkEKrxQAY3uI"
   },
   "outputs": [],
   "source": [
    "from sklearn.preprocessing import StandardScaler\n",
    "X_scaler = StandardScaler().fit(X_train)\n",
    "X_train_scaled = X_scaler.transform(X_train)\n",
    "X_test_scaled = X_scaler.transform(X_test)"
   ]
  },
  {
   "cell_type": "code",
   "execution_count": null,
   "metadata": {
    "colab": {},
    "colab_type": "code",
    "id": "gQ5V_tFRaTKJ"
   },
   "outputs": [],
   "source": [
    "rfc_stdized = RandomForestClassifier(max_depth=15, random_state=122, n_estimators=500, max_features=\"auto\")"
   ]
  },
  {
   "cell_type": "code",
   "execution_count": 57,
   "metadata": {
    "colab": {
     "base_uri": "https://localhost:8080/",
     "height": 153
    },
    "colab_type": "code",
    "id": "uoACs7XcaVzj",
    "outputId": "35c93836-05fa-406b-cc23-23761a59ac29"
   },
   "outputs": [
    {
     "data": {
      "text/plain": [
       "RandomForestClassifier(bootstrap=True, ccp_alpha=0.0, class_weight=None,\n",
       "                       criterion='gini', max_depth=15, max_features='auto',\n",
       "                       max_leaf_nodes=None, max_samples=None,\n",
       "                       min_impurity_decrease=0.0, min_impurity_split=None,\n",
       "                       min_samples_leaf=1, min_samples_split=2,\n",
       "                       min_weight_fraction_leaf=0.0, n_estimators=500,\n",
       "                       n_jobs=None, oob_score=False, random_state=122,\n",
       "                       verbose=0, warm_start=False)"
      ]
     },
     "execution_count": 57,
     "metadata": {
      "tags": []
     },
     "output_type": "execute_result"
    }
   ],
   "source": [
    "rfc_stdized.fit(X_train_scaled, y_train)"
   ]
  },
  {
   "cell_type": "code",
   "execution_count": null,
   "metadata": {
    "colab": {},
    "colab_type": "code",
    "id": "yXdTe-gyadT0"
   },
   "outputs": [],
   "source": [
    "rfc_pred_STANDARDIZED = rfc_stdized.predict(X_test_scaled)"
   ]
  },
  {
   "cell_type": "code",
   "execution_count": 62,
   "metadata": {
    "colab": {
     "base_uri": "https://localhost:8080/",
     "height": 411
    },
    "colab_type": "code",
    "id": "o6HMQkNxarNL",
    "outputId": "aab607d0-bde1-4342-c491-0fb9d2159157"
   },
   "outputs": [
    {
     "name": "stderr",
     "output_type": "stream",
     "text": [
      "/usr/local/lib/python3.6/dist-packages/sklearn/metrics/_classification.py:1272: UndefinedMetricWarning: Precision and F-score are ill-defined and being set to 0.0 in labels with no predicted samples. Use `zero_division` parameter to control this behavior.\n",
      "  _warn_prf(average, modifier, msg_start, len(result))\n"
     ]
    },
    {
     "name": "stdout",
     "output_type": "stream",
     "text": [
      "              precision    recall  f1-score   support\n",
      "\n",
      "         740       1.00      0.44      0.61      7023\n",
      "         745       0.95      0.36      0.52      8064\n",
      "         761       0.00      0.00      0.00       622\n",
      "         888       0.00      0.00      0.00      1028\n",
      "         900       0.00      0.00      0.00      1747\n",
      "         901       0.00      0.00      0.00      1162\n",
      "         930       0.00      0.00      0.00      5614\n",
      "         946       1.00      0.00      0.00      1604\n",
      "         956       0.00      0.00      0.00      2300\n",
      "        1000       0.70      1.00      0.83     55472\n",
      "        2000       0.90      1.00      0.94     24995\n",
      "        4000       0.99      0.67      0.80     10113\n",
      "        5000       0.99      0.99      0.99     30256\n",
      "\n",
      "    accuracy                           0.82    150000\n",
      "   macro avg       0.50      0.34      0.36    150000\n",
      "weighted avg       0.78      0.82      0.77    150000\n",
      "\n"
     ]
    }
   ],
   "source": [
    "print(classification_report(y_test, rfc_pred_STANDARDIZED))\n",
    "classification_report_STANDARDIZED = classification_report(y_test, rfc_pred_STANDARDIZED)"
   ]
  },
  {
   "cell_type": "code",
   "execution_count": 63,
   "metadata": {
    "colab": {
     "base_uri": "https://localhost:8080/",
     "height": 34
    },
    "colab_type": "code",
    "id": "IX3lY3_oazsb",
    "outputId": "5cb6cd55-10ff-4521-91f7-06299fdc43c4"
   },
   "outputs": [
    {
     "name": "stdout",
     "output_type": "stream",
     "text": [
      "Accuracy: 0.8211466666666667\n"
     ]
    }
   ],
   "source": [
    "print(\"Accuracy:\",metrics.accuracy_score(y_test, rfc_pred_STANDARDIZED))\n",
    "accuracy_STANDARDIZED = metrics.accuracy_score(y_test, rfc_pred_STANDARDIZED)"
   ]
  },
  {
   "cell_type": "code",
   "execution_count": null,
   "metadata": {
    "colab": {},
    "colab_type": "code",
    "id": "j_VLls5_b2u9"
   },
   "outputs": [],
   "source": []
  }
 ],
 "metadata": {
  "colab": {
   "collapsed_sections": [],
   "machine_shape": "hm",
   "name": "Copy of Crime_RandomForest_Clasification.ipynb",
   "provenance": []
  },
  "kernelspec": {
   "display_name": "Python 3",
   "language": "python",
   "name": "python3"
  },
  "language_info": {
   "codemirror_mode": {
    "name": "ipython",
    "version": 3
   },
   "file_extension": ".py",
   "mimetype": "text/x-python",
   "name": "python",
   "nbconvert_exporter": "python",
   "pygments_lexer": "ipython3",
   "version": "3.6.8"
  }
 },
 "nbformat": 4,
 "nbformat_minor": 4
}
